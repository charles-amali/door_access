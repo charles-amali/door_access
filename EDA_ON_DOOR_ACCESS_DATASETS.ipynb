{
 "cells": [
  {
   "cell_type": "code",
   "execution_count": null,
   "id": "0c395693",
   "metadata": {},
   "outputs": [],
   "source": [
    "import pandas as pd\n",
    "import numpy as np\n",
    "import datetime as dt"
   ]
  },
  {
   "cell_type": "code",
   "execution_count": 44,
   "id": "7f3ebe6e",
   "metadata": {},
   "outputs": [],
   "source": [
    "checkindf = pd.read_csv(r'C:\\Users\\NanaYawDarko\\door_access_accra\\data_exports\\CHECKINOUT.csv')\n",
    "userdf = pd.read_csv(r'C:\\Users\\NanaYawDarko\\door_access_accra\\data_exports\\USERINFO.csv')\n",
    "eventlogdf= pd.read_csv(r'C:\\Users\\NanaYawDarko\\door_access_accra\\data_exports\\acc_monitor_log.csv')\n",
    "departmentdf = pd.read_csv(r'C:\\Users\\NanaYawDarko\\door_access_accra\\data_exports\\DEPARTMENTS.csv')\n",
    "machinesdf = pd.read_csv(r'C:\\Users\\NanaYawDarko\\door_access_accra\\data_exports\\Machines.csv')\n"
   ]
  },
  {
   "cell_type": "code",
   "execution_count": null,
   "id": "40e42f75",
   "metadata": {},
   "outputs": [
    {
     "data": {
      "text/html": [
       "<div>\n",
       "<style scoped>\n",
       "    .dataframe tbody tr th:only-of-type {\n",
       "        vertical-align: middle;\n",
       "    }\n",
       "\n",
       "    .dataframe tbody tr th {\n",
       "        vertical-align: top;\n",
       "    }\n",
       "\n",
       "    .dataframe thead th {\n",
       "        text-align: right;\n",
       "    }\n",
       "</style>\n",
       "<table border=\"1\" class=\"dataframe\">\n",
       "  <thead>\n",
       "    <tr style=\"text-align: right;\">\n",
       "      <th></th>\n",
       "      <th>userid</th>\n",
       "    </tr>\n",
       "  </thead>\n",
       "  <tbody>\n",
       "    <tr>\n",
       "      <th>count</th>\n",
       "      <td>313.000000</td>\n",
       "    </tr>\n",
       "    <tr>\n",
       "      <th>mean</th>\n",
       "      <td>168.367412</td>\n",
       "    </tr>\n",
       "    <tr>\n",
       "      <th>std</th>\n",
       "      <td>95.485311</td>\n",
       "    </tr>\n",
       "    <tr>\n",
       "      <th>min</th>\n",
       "      <td>1.000000</td>\n",
       "    </tr>\n",
       "    <tr>\n",
       "      <th>25%</th>\n",
       "      <td>87.000000</td>\n",
       "    </tr>\n",
       "    <tr>\n",
       "      <th>50%</th>\n",
       "      <td>171.000000</td>\n",
       "    </tr>\n",
       "    <tr>\n",
       "      <th>75%</th>\n",
       "      <td>251.000000</td>\n",
       "    </tr>\n",
       "    <tr>\n",
       "      <th>max</th>\n",
       "      <td>329.000000</td>\n",
       "    </tr>\n",
       "  </tbody>\n",
       "</table>\n",
       "</div>"
      ],
      "text/plain": [
       "           userid\n",
       "count  313.000000\n",
       "mean   168.367412\n",
       "std     95.485311\n",
       "min      1.000000\n",
       "25%     87.000000\n",
       "50%    171.000000\n",
       "75%    251.000000\n",
       "max    329.000000"
      ]
     },
     "execution_count": 49,
     "metadata": {},
     "output_type": "execute_result"
    }
   ],
   "source": [
    "# get the columns of interest from the userdf\n",
    "userdf_columns = ['USERID','name','lastname','email','DEFAULTDEPTID']\n",
    "userdf = userdf[userdf_columns]\n",
    "#Rename the columns to be more descriptive\n",
    "userdf.rename(columns={'USERID':'userid','name':'firstname','email':'Email','DEFAULTDEPTID':'deptid'}, inplace=True)\n",
    "userdf.describe()"
   ]
  },
  {
   "cell_type": "code",
   "execution_count": null,
   "id": "f2318d4d",
   "metadata": {},
   "outputs": [
    {
     "name": "stdout",
     "output_type": "stream",
     "text": [
      "<class 'pandas.core.frame.DataFrame'>\n",
      "Index: 0 entries\n",
      "Data columns (total 3 columns):\n",
      " #   Column     Non-Null Count  Dtype         \n",
      "---  ------     --------------  -----         \n",
      " 0   userid     0 non-null      int64         \n",
      " 1   checktime  0 non-null      datetime64[ns]\n",
      " 2   logid      0 non-null      int64         \n",
      "dtypes: datetime64[ns](1), int64(2)\n",
      "memory usage: 0.0 bytes\n"
     ]
    }
   ],
   "source": [
    "# get the columns of interest from the checkindf\n",
    "# checkindf_columns = ['USERID','CHECKTIME','LOGID',]\n",
    "# checkindf = checkindf[checkindf_columns]\n",
    "# checkindf.rename(columns={'USERID':'userid','CHECKTIME':'checktime','LOGID':'logid'}, inplace=True)\n",
    "checkindf['checktime'] = pd.to_datetime(checkindf['checktime'], format='%Y-%m-%d %H:%M:%S')\n",
    "\n",
    "# filter the checkindf to only include records from 2024 to now\n",
    "checkindf = checkindf[checkindf['checktime'] == 2024]\n",
    "checkindf.info()"
   ]
  },
  {
   "cell_type": "code",
   "execution_count": 65,
   "id": "a09953a3",
   "metadata": {},
   "outputs": [
    {
     "data": {
      "text/plain": [
       "logid                        int64\n",
       "logtime             datetime64[ns]\n",
       "device_name                 object\n",
       "state                        int64\n",
       "event_type                   int64\n",
       "event_point_name            object\n",
       "dtype: object"
      ]
     },
     "execution_count": 65,
     "metadata": {},
     "output_type": "execute_result"
    }
   ],
   "source": [
    "# get the columns of interest from eventlogdf\n",
    "# eventlog_columns = ['id','time','device_name','state','event_type','event_point_name']\n",
    "# eventlogdf = eventlogdf[eventlog_columns]\n",
    "# eventlogdf.rename(columns={'id':'logid','time':'logtime'}, inplace=True)\n",
    "eventlogdf['logtime'] = pd.to_datetime(eventlogdf['logtime'], format='%Y-%m-%d %H:%M:%S')\n",
    "eventlogdf.dtypes"
   ]
  },
  {
   "cell_type": "code",
   "execution_count": 86,
   "id": "22a773ca",
   "metadata": {},
   "outputs": [
    {
     "data": {
      "text/html": [
       "<div>\n",
       "<style scoped>\n",
       "    .dataframe tbody tr th:only-of-type {\n",
       "        vertical-align: middle;\n",
       "    }\n",
       "\n",
       "    .dataframe tbody tr th {\n",
       "        vertical-align: top;\n",
       "    }\n",
       "\n",
       "    .dataframe thead th {\n",
       "        text-align: right;\n",
       "    }\n",
       "</style>\n",
       "<table border=\"1\" class=\"dataframe\">\n",
       "  <thead>\n",
       "    <tr style=\"text-align: right;\">\n",
       "      <th></th>\n",
       "      <th>userid</th>\n",
       "      <th>name</th>\n",
       "      <th>lastname</th>\n",
       "      <th>email</th>\n",
       "      <th>checktime</th>\n",
       "      <th>logid</th>\n",
       "    </tr>\n",
       "  </thead>\n",
       "  <tbody>\n",
       "  </tbody>\n",
       "</table>\n",
       "</div>"
      ],
      "text/plain": [
       "Empty DataFrame\n",
       "Columns: [userid, name, lastname, email, checktime, logid]\n",
       "Index: []"
      ]
     },
     "execution_count": 86,
     "metadata": {},
     "output_type": "execute_result"
    }
   ],
   "source": [
    "# left join userdf to checkindf on userid\n",
    "usercheckindf = userdf.merge(checkindf, on='userid', how='inner')\n",
    "\n",
    "# usercheckindf.groupby('name').size().reset_index(name='count').sort_values(by='count', ascending=False).head(10)\n",
    "usercheckindf.sort_values(by='checktime', ascending=True).head(100).reset_index(drop=True)"
   ]
  },
  {
   "cell_type": "code",
   "execution_count": null,
   "id": "f7f0a002",
   "metadata": {},
   "outputs": [],
   "source": []
  }
 ],
 "metadata": {
  "kernelspec": {
   "display_name": "door_access",
   "language": "python",
   "name": "python3"
  },
  "language_info": {
   "codemirror_mode": {
    "name": "ipython",
    "version": 3
   },
   "file_extension": ".py",
   "mimetype": "text/x-python",
   "name": "python",
   "nbconvert_exporter": "python",
   "pygments_lexer": "ipython3",
   "version": "3.13.3"
  }
 },
 "nbformat": 4,
 "nbformat_minor": 5
}
